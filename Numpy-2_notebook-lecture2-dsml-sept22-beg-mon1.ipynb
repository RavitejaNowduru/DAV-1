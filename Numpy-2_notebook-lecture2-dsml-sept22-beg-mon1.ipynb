{
 "cells": [
  {
   "cell_type": "code",
   "execution_count": 1,
   "id": "42af451c",
   "metadata": {},
   "outputs": [
    {
     "data": {
      "text/plain": [
       "28"
      ]
     },
     "execution_count": 1,
     "metadata": {},
     "output_type": "execute_result"
    }
   ],
   "source": [
    "import sys as s\n",
    "s.getsizeof(1) #integer"
   ]
  },
  {
   "cell_type": "code",
   "execution_count": 2,
   "id": "ac07e2c6",
   "metadata": {},
   "outputs": [
    {
     "data": {
      "text/plain": [
       "55"
      ]
     },
     "execution_count": 2,
     "metadata": {},
     "output_type": "execute_result"
    }
   ],
   "source": [
    "s.getsizeof('Python') #string"
   ]
  },
  {
   "cell_type": "code",
   "execution_count": 3,
   "id": "8fd7b24c",
   "metadata": {},
   "outputs": [
    {
     "data": {
      "text/plain": [
       "49"
      ]
     },
     "execution_count": 3,
     "metadata": {},
     "output_type": "execute_result"
    }
   ],
   "source": [
    "s.getsizeof('')"
   ]
  },
  {
   "cell_type": "code",
   "execution_count": 4,
   "id": "7d9188a0",
   "metadata": {},
   "outputs": [
    {
     "data": {
      "text/plain": [
       "50"
      ]
     },
     "execution_count": 4,
     "metadata": {},
     "output_type": "execute_result"
    }
   ],
   "source": [
    "s.getsizeof('P')"
   ]
  },
  {
   "cell_type": "code",
   "execution_count": 5,
   "id": "66c5392d",
   "metadata": {},
   "outputs": [
    {
     "data": {
      "text/plain": [
       "51"
      ]
     },
     "execution_count": 5,
     "metadata": {},
     "output_type": "execute_result"
    }
   ],
   "source": [
    "s.getsizeof('Py')"
   ]
  },
  {
   "cell_type": "code",
   "execution_count": 6,
   "id": "8a647ea2",
   "metadata": {},
   "outputs": [
    {
     "data": {
      "text/plain": [
       "52"
      ]
     },
     "execution_count": 6,
     "metadata": {},
     "output_type": "execute_result"
    }
   ],
   "source": [
    "s.getsizeof('Pyt')"
   ]
  },
  {
   "cell_type": "code",
   "execution_count": 7,
   "id": "864a9255",
   "metadata": {},
   "outputs": [
    {
     "data": {
      "text/plain": [
       "56"
      ]
     },
     "execution_count": 7,
     "metadata": {},
     "output_type": "execute_result"
    }
   ],
   "source": [
    "s.getsizeof([])"
   ]
  },
  {
   "cell_type": "code",
   "execution_count": 8,
   "id": "318ae1cd",
   "metadata": {},
   "outputs": [
    {
     "data": {
      "text/plain": [
       "64"
      ]
     },
     "execution_count": 8,
     "metadata": {},
     "output_type": "execute_result"
    }
   ],
   "source": [
    "s.getsizeof([1])"
   ]
  },
  {
   "cell_type": "code",
   "execution_count": 9,
   "id": "ca16cb15",
   "metadata": {},
   "outputs": [
    {
     "data": {
      "text/plain": [
       "72"
      ]
     },
     "execution_count": 9,
     "metadata": {},
     "output_type": "execute_result"
    }
   ],
   "source": [
    "s.getsizeof([1,2])"
   ]
  },
  {
   "cell_type": "code",
   "execution_count": 12,
   "id": "8fb550eb",
   "metadata": {},
   "outputs": [
    {
     "data": {
      "text/plain": [
       "88"
      ]
     },
     "execution_count": 12,
     "metadata": {},
     "output_type": "execute_result"
    }
   ],
   "source": [
    "s.getsizeof([1,2,3])"
   ]
  },
  {
   "cell_type": "code",
   "execution_count": 13,
   "id": "9a17da31",
   "metadata": {},
   "outputs": [
    {
     "data": {
      "text/plain": [
       "88"
      ]
     },
     "execution_count": 13,
     "metadata": {},
     "output_type": "execute_result"
    }
   ],
   "source": [
    "s.getsizeof([1,2,3,4])"
   ]
  },
  {
   "cell_type": "code",
   "execution_count": null,
   "id": "dc426df4",
   "metadata": {},
   "outputs": [],
   "source": []
  },
  {
   "cell_type": "code",
   "execution_count": 16,
   "id": "e6b3398f",
   "metadata": {},
   "outputs": [
    {
     "data": {
      "text/plain": [
       "72"
      ]
     },
     "execution_count": 16,
     "metadata": {},
     "output_type": "execute_result"
    }
   ],
   "source": [
    "lis = [1,'Ankit']\n",
    "s.getsizeof(lis)"
   ]
  },
  {
   "cell_type": "code",
   "execution_count": 17,
   "id": "17483771",
   "metadata": {},
   "outputs": [
    {
     "data": {
      "text/plain": [
       "80"
      ]
     },
     "execution_count": 17,
     "metadata": {},
     "output_type": "execute_result"
    }
   ],
   "source": [
    "s.getsizeof([1,2,[3,4,5,1]])"
   ]
  },
  {
   "cell_type": "markdown",
   "id": "3a70127b",
   "metadata": {},
   "source": [
    "NUMPY 2"
   ]
  },
  {
   "cell_type": "code",
   "execution_count": 19,
   "id": "c0ecec41",
   "metadata": {},
   "outputs": [
    {
     "ename": "TypeError",
     "evalue": "can't multiply sequence by non-int of type 'list'",
     "output_type": "error",
     "traceback": [
      "\u001b[0;31m---------------------------------------------------------------------------\u001b[0m",
      "\u001b[0;31mTypeError\u001b[0m                                 Traceback (most recent call last)",
      "Cell \u001b[0;32mIn[19], line 4\u001b[0m\n\u001b[1;32m      1\u001b[0m list1 \u001b[38;5;241m=\u001b[39m [\u001b[38;5;241m1\u001b[39m,\u001b[38;5;241m2\u001b[39m,\u001b[38;5;241m3\u001b[39m,\u001b[38;5;241m4\u001b[39m,\u001b[38;5;241m5\u001b[39m,\u001b[38;5;241m6\u001b[39m]\n\u001b[1;32m      2\u001b[0m list2 \u001b[38;5;241m=\u001b[39m [\u001b[38;5;241m10\u001b[39m,\u001b[38;5;241m9\u001b[39m,\u001b[38;5;241m8\u001b[39m,\u001b[38;5;241m7\u001b[39m,\u001b[38;5;241m6\u001b[39m,\u001b[38;5;241m5\u001b[39m]\n\u001b[0;32m----> 4\u001b[0m \u001b[38;5;28mprint\u001b[39m(\u001b[43mlist1\u001b[49m\u001b[38;5;241;43m*\u001b[39;49m\u001b[43mlist2\u001b[49m)\n",
      "\u001b[0;31mTypeError\u001b[0m: can't multiply sequence by non-int of type 'list'"
     ]
    }
   ],
   "source": [
    "list1 = [1,2,3,4,5,6]\n",
    "list2 = [10,9,8,7,6,5]\n",
    "\n",
    "print(list1*list2)"
   ]
  },
  {
   "cell_type": "code",
   "execution_count": 20,
   "id": "982d3738",
   "metadata": {},
   "outputs": [
    {
     "data": {
      "text/plain": [
       "array([10, 18, 24, 28, 30, 30])"
      ]
     },
     "execution_count": 20,
     "metadata": {},
     "output_type": "execute_result"
    }
   ],
   "source": [
    "import numpy as np\n",
    "a1=np.array(list1)\n",
    "a2=np.array(list2)\n",
    "\n",
    "a1*a2"
   ]
  },
  {
   "cell_type": "code",
   "execution_count": 22,
   "id": "0e06fc88",
   "metadata": {},
   "outputs": [],
   "source": [
    "a=np.array([1,2,3,4,5])\n",
    "b=np.array([6,7,8])\n",
    "\n",
    "# a[2:] = b[::-1] "
   ]
  },
  {
   "cell_type": "code",
   "execution_count": 23,
   "id": "895ce3de",
   "metadata": {},
   "outputs": [
    {
     "data": {
      "text/plain": [
       "array([1, 2, 3, 4, 5])"
      ]
     },
     "execution_count": 23,
     "metadata": {},
     "output_type": "execute_result"
    }
   ],
   "source": [
    "a"
   ]
  },
  {
   "cell_type": "code",
   "execution_count": 24,
   "id": "eb51213a",
   "metadata": {},
   "outputs": [
    {
     "data": {
      "text/plain": [
       "array([6, 7, 8])"
      ]
     },
     "execution_count": 24,
     "metadata": {},
     "output_type": "execute_result"
    }
   ],
   "source": [
    "b"
   ]
  },
  {
   "cell_type": "code",
   "execution_count": 25,
   "id": "415c6dda",
   "metadata": {},
   "outputs": [
    {
     "data": {
      "text/plain": [
       "array([3, 4, 5])"
      ]
     },
     "execution_count": 25,
     "metadata": {},
     "output_type": "execute_result"
    }
   ],
   "source": [
    "a[2:]"
   ]
  },
  {
   "cell_type": "code",
   "execution_count": 26,
   "id": "3864320e",
   "metadata": {},
   "outputs": [
    {
     "data": {
      "text/plain": [
       "array([8, 7, 6])"
      ]
     },
     "execution_count": 26,
     "metadata": {},
     "output_type": "execute_result"
    }
   ],
   "source": [
    "b[::-1]"
   ]
  },
  {
   "cell_type": "code",
   "execution_count": 27,
   "id": "4c4d6982",
   "metadata": {},
   "outputs": [
    {
     "data": {
      "text/plain": [
       "array([1, 2, 8, 7, 6])"
      ]
     },
     "execution_count": 27,
     "metadata": {},
     "output_type": "execute_result"
    }
   ],
   "source": [
    "a[2:] = b[::-1]\n",
    "a"
   ]
  },
  {
   "cell_type": "markdown",
   "id": "a1e54f9d",
   "metadata": {},
   "source": [
    "What is size is diff"
   ]
  },
  {
   "cell_type": "code",
   "execution_count": 28,
   "id": "01746de8",
   "metadata": {},
   "outputs": [
    {
     "ename": "ValueError",
     "evalue": "could not broadcast input array from shape (3,) into shape (2,)",
     "output_type": "error",
     "traceback": [
      "\u001b[0;31m---------------------------------------------------------------------------\u001b[0m",
      "\u001b[0;31mValueError\u001b[0m                                Traceback (most recent call last)",
      "Cell \u001b[0;32mIn[28], line 1\u001b[0m\n\u001b[0;32m----> 1\u001b[0m a[\u001b[38;5;241m3\u001b[39m:] \u001b[38;5;241m=\u001b[39m b[::\u001b[38;5;241m-\u001b[39m\u001b[38;5;241m1\u001b[39m]\n",
      "\u001b[0;31mValueError\u001b[0m: could not broadcast input array from shape (3,) into shape (2,)"
     ]
    }
   ],
   "source": [
    "a[3:] = b[::-1]"
   ]
  },
  {
   "cell_type": "code",
   "execution_count": 29,
   "id": "2b61f936",
   "metadata": {},
   "outputs": [
    {
     "ename": "ValueError",
     "evalue": "could not broadcast input array from shape (3,) into shape (4,)",
     "output_type": "error",
     "traceback": [
      "\u001b[0;31m---------------------------------------------------------------------------\u001b[0m",
      "\u001b[0;31mValueError\u001b[0m                                Traceback (most recent call last)",
      "Cell \u001b[0;32mIn[29], line 1\u001b[0m\n\u001b[0;32m----> 1\u001b[0m a[\u001b[38;5;241m1\u001b[39m:] \u001b[38;5;241m=\u001b[39m b[::\u001b[38;5;241m-\u001b[39m\u001b[38;5;241m1\u001b[39m]\n",
      "\u001b[0;31mValueError\u001b[0m: could not broadcast input array from shape (3,) into shape (4,)"
     ]
    }
   ],
   "source": [
    "a[1:] = b[::-1]"
   ]
  },
  {
   "cell_type": "code",
   "execution_count": 31,
   "id": "e826144f",
   "metadata": {},
   "outputs": [
    {
     "data": {
      "text/plain": [
       "array([ 0,  1,  2,  3,  4,  5,  6,  7,  8,  9, 10, 11])"
      ]
     },
     "execution_count": 31,
     "metadata": {},
     "output_type": "execute_result"
    }
   ],
   "source": [
    "a = np.arange(12)\n",
    "a"
   ]
  },
  {
   "cell_type": "code",
   "execution_count": 32,
   "id": "c3c49c16",
   "metadata": {},
   "outputs": [
    {
     "data": {
      "text/plain": [
       "array([ True,  True,  True,  True,  True,  True, False, False, False,\n",
       "       False, False, False])"
      ]
     },
     "execution_count": 32,
     "metadata": {},
     "output_type": "execute_result"
    }
   ],
   "source": [
    "mask = a<6\n",
    "mask"
   ]
  },
  {
   "cell_type": "code",
   "execution_count": 33,
   "id": "59316557",
   "metadata": {},
   "outputs": [
    {
     "data": {
      "text/plain": [
       "array([0, 1, 2, 3, 4, 5])"
      ]
     },
     "execution_count": 33,
     "metadata": {},
     "output_type": "execute_result"
    }
   ],
   "source": [
    "a[mask]"
   ]
  },
  {
   "cell_type": "code",
   "execution_count": 34,
   "id": "09d1b290",
   "metadata": {},
   "outputs": [
    {
     "data": {
      "text/plain": [
       "array([ True, False,  True, False,  True, False,  True, False,  True,\n",
       "       False,  True, False])"
      ]
     },
     "execution_count": 34,
     "metadata": {},
     "output_type": "execute_result"
    }
   ],
   "source": [
    "mask = a%2 ==0\n",
    "mask"
   ]
  },
  {
   "cell_type": "code",
   "execution_count": 35,
   "id": "e46b6b7e",
   "metadata": {},
   "outputs": [
    {
     "data": {
      "text/plain": [
       "array([ 0,  2,  4,  6,  8, 10])"
      ]
     },
     "execution_count": 35,
     "metadata": {},
     "output_type": "execute_result"
    }
   ],
   "source": [
    "a[mask]"
   ]
  },
  {
   "cell_type": "code",
   "execution_count": 36,
   "id": "5f3f71d7",
   "metadata": {},
   "outputs": [
    {
     "data": {
      "text/plain": [
       "array([ 0,  2,  4,  6,  8, 10])"
      ]
     },
     "execution_count": 36,
     "metadata": {},
     "output_type": "execute_result"
    }
   ],
   "source": [
    "mask1 = (a%2 ==0)\n",
    "mask2 = (a%5 ==0)\n",
    "\n",
    "a[mask1]"
   ]
  },
  {
   "cell_type": "code",
   "execution_count": 37,
   "id": "a3ca0aca",
   "metadata": {},
   "outputs": [
    {
     "data": {
      "text/plain": [
       "array([ 0,  5, 10])"
      ]
     },
     "execution_count": 37,
     "metadata": {},
     "output_type": "execute_result"
    }
   ],
   "source": [
    "a[mask2]"
   ]
  },
  {
   "cell_type": "code",
   "execution_count": 38,
   "id": "96306ff0",
   "metadata": {},
   "outputs": [
    {
     "ename": "ValueError",
     "evalue": "The truth value of an array with more than one element is ambiguous. Use a.any() or a.all()",
     "output_type": "error",
     "traceback": [
      "\u001b[0;31m---------------------------------------------------------------------------\u001b[0m",
      "\u001b[0;31mValueError\u001b[0m                                Traceback (most recent call last)",
      "Cell \u001b[0;32mIn[38], line 1\u001b[0m\n\u001b[0;32m----> 1\u001b[0m a[mask1 \u001b[38;5;129;01mor\u001b[39;00m mask2]\n",
      "\u001b[0;31mValueError\u001b[0m: The truth value of an array with more than one element is ambiguous. Use a.any() or a.all()"
     ]
    }
   ],
   "source": [
    "a[mask1 or mask2]"
   ]
  },
  {
   "cell_type": "code",
   "execution_count": 39,
   "id": "4752205b",
   "metadata": {},
   "outputs": [
    {
     "data": {
      "text/plain": [
       "array([ 0,  2,  4,  5,  6,  8, 10])"
      ]
     },
     "execution_count": 39,
     "metadata": {},
     "output_type": "execute_result"
    }
   ],
   "source": [
    "a[mask1 | mask2]"
   ]
  },
  {
   "cell_type": "code",
   "execution_count": 40,
   "id": "5a6851cd",
   "metadata": {},
   "outputs": [
    {
     "data": {
      "text/plain": [
       "array([ 0, 10])"
      ]
     },
     "execution_count": 40,
     "metadata": {},
     "output_type": "execute_result"
    }
   ],
   "source": [
    "a[mask1 & mask2]"
   ]
  },
  {
   "cell_type": "code",
   "execution_count": 41,
   "id": "882d14ae",
   "metadata": {},
   "outputs": [
    {
     "data": {
      "text/plain": [
       "array([False, False, False])"
      ]
     },
     "execution_count": 41,
     "metadata": {},
     "output_type": "execute_result"
    }
   ],
   "source": [
    "a=np.array([1,2,3])\n",
    "b=np.array([4,5,6])\n",
    "a>b"
   ]
  },
  {
   "cell_type": "code",
   "execution_count": null,
   "id": "f99ba02f",
   "metadata": {},
   "outputs": [],
   "source": [
    "\n"
   ]
  },
  {
   "cell_type": "code",
   "execution_count": 42,
   "id": "af8882cf",
   "metadata": {},
   "outputs": [
    {
     "data": {
      "text/plain": [
       "array([0, 1, 2, 3])"
      ]
     },
     "execution_count": 42,
     "metadata": {},
     "output_type": "execute_result"
    }
   ],
   "source": [
    "a = np.arange(4)\n",
    "a"
   ]
  },
  {
   "cell_type": "code",
   "execution_count": 43,
   "id": "48359e2e",
   "metadata": {},
   "outputs": [
    {
     "data": {
      "text/plain": [
       "array([3, 4, 5, 6])"
      ]
     },
     "execution_count": 43,
     "metadata": {},
     "output_type": "execute_result"
    }
   ],
   "source": [
    "a+3\n"
   ]
  },
  {
   "cell_type": "code",
   "execution_count": 44,
   "id": "1d16dffc",
   "metadata": {},
   "outputs": [
    {
     "data": {
      "text/plain": [
       "6"
      ]
     },
     "execution_count": 44,
     "metadata": {},
     "output_type": "execute_result"
    }
   ],
   "source": [
    "np.sum(a) #numpy sum"
   ]
  },
  {
   "cell_type": "code",
   "execution_count": 45,
   "id": "08453e22",
   "metadata": {},
   "outputs": [
    {
     "data": {
      "text/plain": [
       "6"
      ]
     },
     "execution_count": 45,
     "metadata": {},
     "output_type": "execute_result"
    }
   ],
   "source": [
    "a.sum() #ndarray sum"
   ]
  },
  {
   "cell_type": "code",
   "execution_count": 46,
   "id": "2a957eb8",
   "metadata": {},
   "outputs": [
    {
     "data": {
      "text/plain": [
       "1.5"
      ]
     },
     "execution_count": 46,
     "metadata": {},
     "output_type": "execute_result"
    }
   ],
   "source": [
    "np.mean(a)"
   ]
  },
  {
   "cell_type": "code",
   "execution_count": 47,
   "id": "5dd40780",
   "metadata": {},
   "outputs": [
    {
     "data": {
      "text/plain": [
       "1.5"
      ]
     },
     "execution_count": 47,
     "metadata": {},
     "output_type": "execute_result"
    }
   ],
   "source": [
    "6/4"
   ]
  },
  {
   "cell_type": "code",
   "execution_count": 48,
   "id": "55a22ad9",
   "metadata": {},
   "outputs": [
    {
     "data": {
      "text/plain": [
       "1.5"
      ]
     },
     "execution_count": 48,
     "metadata": {},
     "output_type": "execute_result"
    }
   ],
   "source": [
    "a.mean()"
   ]
  },
  {
   "cell_type": "code",
   "execution_count": 49,
   "id": "1c0405b5",
   "metadata": {},
   "outputs": [
    {
     "data": {
      "text/plain": [
       "0"
      ]
     },
     "execution_count": 49,
     "metadata": {},
     "output_type": "execute_result"
    }
   ],
   "source": [
    "np.min(a)"
   ]
  },
  {
   "cell_type": "code",
   "execution_count": 50,
   "id": "54f0fbc0",
   "metadata": {},
   "outputs": [
    {
     "data": {
      "text/plain": [
       "3"
      ]
     },
     "execution_count": 50,
     "metadata": {},
     "output_type": "execute_result"
    }
   ],
   "source": [
    "np.max(a)"
   ]
  },
  {
   "cell_type": "code",
   "execution_count": null,
   "id": "8592821a",
   "metadata": {},
   "outputs": [],
   "source": []
  },
  {
   "cell_type": "code",
   "execution_count": null,
   "id": "472ab81a",
   "metadata": {},
   "outputs": [],
   "source": [
    "# Use case: Airbnb data \n",
    "# We wanted to understand customer sentiment\n",
    "# Metric : NPS Score"
   ]
  },
  {
   "cell_type": "code",
   "execution_count": 51,
   "id": "c7e8c417",
   "metadata": {},
   "outputs": [],
   "source": [
    "# https://drive.google.com/file/d/14bd7pg9d3CbhcxdT6EGMDgvgMHrSjKR8/view?usp=sharing"
   ]
  },
  {
   "cell_type": "code",
   "execution_count": 53,
   "id": "341672c4",
   "metadata": {},
   "outputs": [
    {
     "name": "stdout",
     "output_type": "stream",
     "text": [
      "Requirement already satisfied: gdown in ./anaconda3/lib/python3.10/site-packages (4.7.1)\n",
      "Requirement already satisfied: beautifulsoup4 in ./anaconda3/lib/python3.10/site-packages (from gdown) (4.11.1)\n",
      "Requirement already satisfied: tqdm in ./anaconda3/lib/python3.10/site-packages (from gdown) (4.64.1)\n",
      "Requirement already satisfied: requests[socks] in ./anaconda3/lib/python3.10/site-packages (from gdown) (2.28.1)\n",
      "Requirement already satisfied: filelock in ./anaconda3/lib/python3.10/site-packages (from gdown) (3.9.0)\n",
      "Requirement already satisfied: six in ./anaconda3/lib/python3.10/site-packages (from gdown) (1.16.0)\n",
      "Requirement already satisfied: soupsieve>1.2 in ./anaconda3/lib/python3.10/site-packages (from beautifulsoup4->gdown) (2.3.2.post1)\n",
      "Requirement already satisfied: charset-normalizer<3,>=2 in ./anaconda3/lib/python3.10/site-packages (from requests[socks]->gdown) (2.0.4)\n",
      "Requirement already satisfied: certifi>=2017.4.17 in ./anaconda3/lib/python3.10/site-packages (from requests[socks]->gdown) (2022.12.7)\n",
      "Requirement already satisfied: idna<4,>=2.5 in ./anaconda3/lib/python3.10/site-packages (from requests[socks]->gdown) (3.4)\n",
      "Requirement already satisfied: urllib3<1.27,>=1.21.1 in ./anaconda3/lib/python3.10/site-packages (from requests[socks]->gdown) (1.26.14)\n",
      "Requirement already satisfied: PySocks!=1.5.7,>=1.5.6 in ./anaconda3/lib/python3.10/site-packages (from requests[socks]->gdown) (1.7.1)\n"
     ]
    }
   ],
   "source": [
    "!pip install gdown"
   ]
  },
  {
   "cell_type": "code",
   "execution_count": 52,
   "id": "174a9a0a",
   "metadata": {},
   "outputs": [
    {
     "name": "stdout",
     "output_type": "stream",
     "text": [
      "Downloading...\n",
      "From: https://drive.google.com/uc?id=14bd7pg9d3CbhcxdT6EGMDgvgMHrSjKR8\n",
      "To: /Users/ritnil/survey.txt\n",
      "100%|██████████████████████████████████████| 2.55k/2.55k [00:00<00:00, 4.78MB/s]\n"
     ]
    }
   ],
   "source": [
    "!gdown 14bd7pg9d3CbhcxdT6EGMDgvgMHrSjKR8"
   ]
  },
  {
   "cell_type": "code",
   "execution_count": 55,
   "id": "6d83e627",
   "metadata": {},
   "outputs": [
    {
     "data": {
      "text/plain": [
       "array([ 7, 10,  5, ...,  5,  9, 10])"
      ]
     },
     "execution_count": 55,
     "metadata": {},
     "output_type": "execute_result"
    }
   ],
   "source": [
    "score = np.loadtxt(\"/Users/ritnil/survey.txt\",dtype=\"int\")\n",
    "score"
   ]
  },
  {
   "cell_type": "code",
   "execution_count": 56,
   "id": "4b398bb3",
   "metadata": {},
   "outputs": [
    {
     "data": {
      "text/plain": [
       "(1167,)"
      ]
     },
     "execution_count": 56,
     "metadata": {},
     "output_type": "execute_result"
    }
   ],
   "source": [
    "score.shape"
   ]
  },
  {
   "cell_type": "code",
   "execution_count": 57,
   "id": "1f59a639",
   "metadata": {},
   "outputs": [
    {
     "data": {
      "text/plain": [
       "1"
      ]
     },
     "execution_count": 57,
     "metadata": {},
     "output_type": "execute_result"
    }
   ],
   "source": [
    "score.min()"
   ]
  },
  {
   "cell_type": "code",
   "execution_count": 58,
   "id": "1706375b",
   "metadata": {},
   "outputs": [
    {
     "data": {
      "text/plain": [
       "10"
      ]
     },
     "execution_count": 58,
     "metadata": {},
     "output_type": "execute_result"
    }
   ],
   "source": [
    "score.max()"
   ]
  },
  {
   "cell_type": "code",
   "execution_count": 59,
   "id": "bc746f97",
   "metadata": {},
   "outputs": [
    {
     "data": {
      "text/plain": [
       "array([False, False,  True, ...,  True, False, False])"
      ]
     },
     "execution_count": 59,
     "metadata": {},
     "output_type": "execute_result"
    }
   ],
   "source": [
    "detractor_mask = (score<7)\n",
    "detractor_mask"
   ]
  },
  {
   "cell_type": "code",
   "execution_count": 62,
   "id": "520b90e2",
   "metadata": {},
   "outputs": [],
   "source": [
    "detractor = score[detractor_mask]"
   ]
  },
  {
   "cell_type": "code",
   "execution_count": 63,
   "id": "d3c6fe89",
   "metadata": {},
   "outputs": [
    {
     "data": {
      "text/plain": [
       "(332,)"
      ]
     },
     "execution_count": 63,
     "metadata": {},
     "output_type": "execute_result"
    }
   ],
   "source": [
    "detractor.shape"
   ]
  },
  {
   "cell_type": "code",
   "execution_count": 65,
   "id": "058dbd68",
   "metadata": {},
   "outputs": [
    {
     "data": {
      "text/plain": [
       "332"
      ]
     },
     "execution_count": 65,
     "metadata": {},
     "output_type": "execute_result"
    }
   ],
   "source": [
    "detractor_number = detractor.shape[0]\n",
    "detractor_number "
   ]
  },
  {
   "cell_type": "code",
   "execution_count": 66,
   "id": "6ad6f97e",
   "metadata": {},
   "outputs": [
    {
     "data": {
      "text/plain": [
       "1167"
      ]
     },
     "execution_count": 66,
     "metadata": {},
     "output_type": "execute_result"
    }
   ],
   "source": [
    "total = score.shape[0]\n",
    "total"
   ]
  },
  {
   "cell_type": "code",
   "execution_count": 67,
   "id": "9162a6fb",
   "metadata": {},
   "outputs": [
    {
     "data": {
      "text/plain": [
       "array([False,  True, False, ..., False,  True,  True])"
      ]
     },
     "execution_count": 67,
     "metadata": {},
     "output_type": "execute_result"
    }
   ],
   "source": [
    "promoter_mask = (score>8)\n",
    "promoter_mask"
   ]
  },
  {
   "cell_type": "code",
   "execution_count": 68,
   "id": "6f667bed",
   "metadata": {},
   "outputs": [
    {
     "data": {
      "text/plain": [
       "array([10,  9,  9,  9,  9,  9, 10,  9,  9, 10,  9,  9,  9,  9,  9,  9,  9,\n",
       "       10, 10,  9, 10,  9, 10,  9,  9, 10, 10,  9, 10,  9, 10, 10, 10,  9,\n",
       "        9, 10, 10, 10,  9, 10,  9, 10,  9,  9,  9, 10,  9,  9,  9,  9,  9,\n",
       "        9, 10,  9,  9,  9, 10,  9, 10,  9,  9,  9,  9,  9, 10, 10,  9, 10,\n",
       "        9,  9, 10,  9,  9, 10,  9,  9,  9,  9,  9,  9,  9,  9,  9,  9,  9,\n",
       "       10,  9,  9,  9,  9,  9,  9,  9,  9, 10,  9,  9,  9,  9,  9, 10, 10,\n",
       "        9, 10, 10, 10, 10,  9, 10,  9,  9,  9,  9,  9,  9,  9, 10,  9, 10,\n",
       "        9, 10,  9, 10, 10, 10,  9,  9, 10, 10,  9,  9,  9,  9, 10,  9,  9,\n",
       "        9,  9, 10, 10,  9,  9,  9, 10,  9,  9,  9,  9,  9, 10,  9,  9,  9,\n",
       "       10,  9, 10, 10,  9,  9,  9,  9, 10,  9, 10,  9,  9,  9,  9, 10,  9,\n",
       "       10,  9,  9,  9,  9,  9,  9,  9,  9,  9,  9,  9, 10, 10,  9,  9,  9,\n",
       "       10,  9, 10, 10, 10, 10, 10,  9,  9,  9,  9, 10, 10, 10,  9,  9, 10,\n",
       "        9, 10, 10, 10, 10,  9, 10, 10,  9, 10,  9,  9,  9,  9, 10,  9, 10,\n",
       "        9, 10,  9,  9,  9,  9, 10,  9,  9,  9,  9,  9, 10,  9, 10, 10,  9,\n",
       "       10, 10, 10,  9,  9,  9,  9,  9,  9, 10,  9,  9, 10,  9, 10, 10,  9,\n",
       "        9,  9, 10, 10, 10, 10,  9,  9,  9, 10, 10,  9, 10,  9,  9,  9, 10,\n",
       "        9,  9,  9,  9,  9,  9,  9,  9,  9,  9, 10,  9,  9,  9, 10,  9, 10,\n",
       "        9, 10,  9, 10,  9,  9, 10, 10,  9,  9,  9, 10,  9,  9, 10,  9,  9,\n",
       "        9,  9,  9,  9, 10, 10,  9, 10,  9,  9,  9,  9, 10,  9,  9,  9,  9,\n",
       "       10,  9, 10,  9, 10,  9, 10, 10,  9, 10, 10,  9, 10,  9,  9,  9,  9,\n",
       "        9, 10,  9, 10, 10,  9, 10, 10,  9,  9, 10,  9, 10, 10,  9, 10, 10,\n",
       "       10,  9,  9,  9, 10,  9,  9,  9, 10,  9,  9,  9,  9,  9, 10,  9,  9,\n",
       "        9, 10,  9,  9,  9,  9,  9, 10,  9, 10,  9,  9, 10,  9,  9,  9,  9,\n",
       "        9,  9, 10,  9,  9,  9,  9,  9,  9,  9,  9,  9,  9, 10,  9, 10,  9,\n",
       "        9,  9,  9,  9,  9,  9,  9,  9,  9,  9,  9,  9,  9, 10, 10,  9,  9,\n",
       "        9,  9, 10,  9, 10,  9, 10, 10,  9,  9, 10,  9, 10, 10, 10,  9,  9,\n",
       "        9, 10, 10,  9,  9,  9, 10,  9,  9,  9,  9, 10,  9, 10,  9,  9, 10,\n",
       "        9,  9,  9, 10,  9,  9,  9,  9, 10,  9,  9,  9,  9,  9,  9, 10,  9,\n",
       "       10, 10,  9,  9,  9, 10, 10, 10, 10,  9,  9, 10, 10,  9, 10,  9, 10,\n",
       "        9, 10,  9,  9, 10,  9, 10, 10,  9,  9,  9,  9,  9,  9,  9,  9,  9,\n",
       "        9,  9,  9,  9,  9,  9,  9,  9,  9,  9,  9,  9,  9,  9,  9,  9,  9,\n",
       "       10, 10,  9,  9,  9,  9, 10, 10,  9, 10, 10,  9, 10, 10,  9, 10, 10,\n",
       "       10,  9,  9, 10, 10, 10,  9,  9, 10, 10,  9,  9,  9,  9,  9,  9, 10,\n",
       "       10, 10, 10, 10, 10,  9,  9,  9,  9, 10, 10,  9,  9,  9,  9,  9, 10,\n",
       "       10,  9, 10, 10,  9, 10, 10,  9, 10, 10,  9, 10,  9, 10, 10,  9, 10,\n",
       "       10,  9,  9,  9,  9, 10,  9,  9, 10, 10, 10, 10,  9, 10])"
      ]
     },
     "execution_count": 68,
     "metadata": {},
     "output_type": "execute_result"
    }
   ],
   "source": [
    "promoter = score[promoter_mask]\n",
    "promoter"
   ]
  },
  {
   "cell_type": "code",
   "execution_count": 69,
   "id": "d58f1fa2",
   "metadata": {},
   "outputs": [
    {
     "data": {
      "text/plain": [
       "(609,)"
      ]
     },
     "execution_count": 69,
     "metadata": {},
     "output_type": "execute_result"
    }
   ],
   "source": [
    "promoter.shape"
   ]
  },
  {
   "cell_type": "code",
   "execution_count": 70,
   "id": "663019d4",
   "metadata": {},
   "outputs": [
    {
     "data": {
      "text/plain": [
       "609"
      ]
     },
     "execution_count": 70,
     "metadata": {},
     "output_type": "execute_result"
    }
   ],
   "source": [
    "promoter_number = promoter.shape[0]\n",
    "promoter_number "
   ]
  },
  {
   "cell_type": "code",
   "execution_count": 73,
   "id": "26408a4f",
   "metadata": {},
   "outputs": [
    {
     "data": {
      "text/plain": [
       "52.185089974293064"
      ]
     },
     "execution_count": 73,
     "metadata": {},
     "output_type": "execute_result"
    }
   ],
   "source": [
    "percentage_promoter = (promoter_number/total)*100\n",
    "percentage_promoter"
   ]
  },
  {
   "cell_type": "code",
   "execution_count": 75,
   "id": "bef31492",
   "metadata": {},
   "outputs": [
    {
     "data": {
      "text/plain": [
       "28.449014567266495"
      ]
     },
     "execution_count": 75,
     "metadata": {},
     "output_type": "execute_result"
    }
   ],
   "source": [
    "percentage_detractor = (detractor_number/total)*100\n",
    "percentage_detractor"
   ]
  },
  {
   "cell_type": "code",
   "execution_count": 76,
   "id": "9c516453",
   "metadata": {},
   "outputs": [
    {
     "data": {
      "text/plain": [
       "23.73607540702657"
      ]
     },
     "execution_count": 76,
     "metadata": {},
     "output_type": "execute_result"
    }
   ],
   "source": [
    "nps = percentage_promoter - percentage_detractor\n",
    "nps"
   ]
  },
  {
   "cell_type": "code",
   "execution_count": null,
   "id": "63d6d845",
   "metadata": {},
   "outputs": [],
   "source": []
  }
 ],
 "metadata": {
  "kernelspec": {
   "display_name": "Python 3 (ipykernel)",
   "language": "python",
   "name": "python3"
  },
  "language_info": {
   "codemirror_mode": {
    "name": "ipython",
    "version": 3
   },
   "file_extension": ".py",
   "mimetype": "text/x-python",
   "name": "python",
   "nbconvert_exporter": "python",
   "pygments_lexer": "ipython3",
   "version": "3.10.9"
  }
 },
 "nbformat": 4,
 "nbformat_minor": 5
}
